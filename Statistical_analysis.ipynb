{
  "nbformat": 4,
  "nbformat_minor": 0,
  "metadata": {
    "colab": {
      "provenance": [],
      "authorship_tag": "ABX9TyMJDJy7+pQBv36RXm/gk/hk",
      "include_colab_link": true
    },
    "kernelspec": {
      "name": "python3",
      "display_name": "Python 3"
    },
    "language_info": {
      "name": "python"
    }
  },
  "cells": [
    {
      "cell_type": "markdown",
      "metadata": {
        "id": "view-in-github",
        "colab_type": "text"
      },
      "source": [
        "<a href=\"https://colab.research.google.com/github/Srinivas-Dasathwar/CodSoft_Tasks/blob/main/Statistical_analysis.ipynb\" target=\"_parent\"><img src=\"https://colab.research.google.com/assets/colab-badge.svg\" alt=\"Open In Colab\"/></a>"
      ]
    },
    {
      "cell_type": "code",
      "source": [
        "import numpy as np"
      ],
      "metadata": {
        "id": "jk3SbZ0KsSeb"
      },
      "execution_count": null,
      "outputs": []
    },
    {
      "cell_type": "code",
      "source": [
        "def matrix_exponentiation(matrix, power):\n",
        "\n",
        "  if not isinstance(matrix, np.ndarray):\n",
        "      print(\"Error: Input matrix must be a NumPy array.\")\n",
        "      return None\n",
        "\n",
        "  rows, cols = matrix.shape\n",
        "  if rows != cols:\n",
        "    print(\"Error: Input matrix must be square.\")\n",
        "    return None\n",
        "\n",
        "  if power < 0:\n",
        "    print(\"Error: Power must be non-negative.\")\n",
        "    return None\n",
        "\n",
        "  result = np.identity(rows)\n",
        "\n",
        "  while power > 0:\n",
        "    if power % 2 == 1:\n",
        "        result = np.dot(result, matrix)\n",
        "    matrix = np.dot(matrix, matrix)\n",
        "    power //= 2\n",
        "\n",
        "  return result"
      ],
      "metadata": {
        "id": "gdxms0rZsUzO"
      },
      "execution_count": null,
      "outputs": []
    },
    {
      "cell_type": "code",
      "source": [
        "matrix = np.array([[1, 2], [3, 4]])\n",
        "power = 3\n",
        "result_matrix = matrix_exponentiation(matrix, power)\n",
        "\n",
        "if result_matrix is not None:\n",
        "  print(f\"The matrix exponentiation of the matrix\\n{matrix}\\nraised to the power {power} is:\\n{result_matrix}\")"
      ],
      "metadata": {
        "colab": {
          "base_uri": "https://localhost:8080/"
        },
        "id": "FUNnm5qSs-5r",
        "outputId": "9dde71e3-5629-43ec-db7c-9a624d9f5fea"
      },
      "execution_count": null,
      "outputs": [
        {
          "output_type": "stream",
          "name": "stdout",
          "text": [
            "The matrix exponentiation of the matrix\n",
            "[[1 2]\n",
            " [3 4]]\n",
            "raised to the power 3 is:\n",
            "[[ 37.  54.]\n",
            " [ 81. 118.]]\n"
          ]
        }
      ]
    },
    {
      "cell_type": "code",
      "source": [],
      "metadata": {
        "id": "6R2eGKAMtDoH"
      },
      "execution_count": null,
      "outputs": []
    }
  ]
}